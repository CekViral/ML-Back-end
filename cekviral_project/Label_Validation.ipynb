{
  "nbformat": 4,
  "nbformat_minor": 0,
  "metadata": {
    "colab": {
      "provenance": []
    },
    "kernelspec": {
      "name": "python3",
      "display_name": "Python 3"
    },
    "language_info": {
      "name": "python"
    }
  },
  "cells": [
    {
      "cell_type": "code",
      "source": [
        "import pandas as pd\n",
        "import numpy as np\n",
        "import matplotlib.pyplot as plt\n",
        "import seaborn as sns\n",
        "import re\n",
        "import string\n",
        "import requests\n",
        "import nltk\n",
        "from nltk.tokenize import word_tokenize\n",
        "from nltk.corpus import stopwords\n",
        "nltk.download('punkt_tab')\n",
        "nltk.download('stopwords')\n",
        "\n",
        "!pip install sastrawi\n",
        "from Sastrawi.Stemmer.StemmerFactory import StemmerFactory\n",
        "from Sastrawi.StopWordRemover.StopWordRemoverFactory import StopWordRemoverFactory\n",
        "from wordcloud import WordCloud\n",
        "import random\n",
        "\n",
        "from sklearn.model_selection import train_test_split\n",
        "from sklearn.preprocessing import LabelEncoder\n",
        "from sklearn.feature_extraction.text import TfidfVectorizer\n",
        "from sklearn.feature_extraction.text import CountVectorizer\n",
        "from sklearn.metrics import classification_report, accuracy_score\n",
        "from sklearn.ensemble import RandomForestClassifier\n",
        "from sklearn.naive_bayes import MultinomialNB\n",
        "\n",
        "from imblearn.over_sampling import SMOTE\n",
        "import pickle"
      ],
      "metadata": {
        "colab": {
          "base_uri": "https://localhost:8080/"
        },
        "id": "u-wP37wkPxiS",
        "outputId": "f46f17b7-5339-45c3-9cb2-0e0424218235"
      },
      "execution_count": null,
      "outputs": [
        {
          "output_type": "stream",
          "name": "stderr",
          "text": [
            "[nltk_data] Downloading package punkt_tab to /root/nltk_data...\n",
            "[nltk_data]   Unzipping tokenizers/punkt_tab.zip.\n",
            "[nltk_data] Downloading package stopwords to /root/nltk_data...\n",
            "[nltk_data]   Unzipping corpora/stopwords.zip.\n"
          ]
        },
        {
          "output_type": "stream",
          "name": "stdout",
          "text": [
            "Collecting sastrawi\n",
            "  Downloading Sastrawi-1.0.1-py2.py3-none-any.whl.metadata (909 bytes)\n",
            "Downloading Sastrawi-1.0.1-py2.py3-none-any.whl (209 kB)\n",
            "\u001b[2K   \u001b[90m━━━━━━━━━━━━━━━━━━━━━━━━━━━━━━━━━━━━━━━━\u001b[0m \u001b[32m209.7/209.7 kB\u001b[0m \u001b[31m2.8 MB/s\u001b[0m eta \u001b[36m0:00:00\u001b[0m\n",
            "\u001b[?25hInstalling collected packages: sastrawi\n",
            "Successfully installed sastrawi-1.0.1\n"
          ]
        }
      ]
    },
    {
      "cell_type": "code",
      "source": [
        "from google.colab import drive\n",
        "drive.mount('/content/drive')"
      ],
      "metadata": {
        "colab": {
          "base_uri": "https://localhost:8080/"
        },
        "id": "jXtveuGB23cd",
        "outputId": "67cf8f38-b5ad-4050-d9b9-bc8f12b8098f"
      },
      "execution_count": null,
      "outputs": [
        {
          "output_type": "stream",
          "name": "stdout",
          "text": [
            "Mounted at /content/drive\n"
          ]
        }
      ]
    },
    {
      "cell_type": "code",
      "source": [
        "# Memuat dataset\n",
        "df = pd.read_excel(\"/content/drive/MyDrive/News Dataset.xlsx\")\n",
        "df = df.drop(columns='Status.1')\n",
        "\n",
        "# Cek data\n",
        "df.head()"
      ],
      "metadata": {
        "colab": {
          "base_uri": "https://localhost:8080/",
          "height": 206
        },
        "id": "J-_7mPn_SXjK",
        "outputId": "0cbbc43a-3e20-4f40-f006-ed8d1b74a6e5"
      },
      "execution_count": null,
      "outputs": [
        {
          "output_type": "execute_result",
          "data": {
            "text/plain": [
              "              Date    Status  \\\n",
              "0    June 18, 2024  PENIPUAN   \n",
              "1  August 28, 2020     ACARA   \n",
              "2  August 27, 2020     ACARA   \n",
              "3  August 17, 2020     ACARA   \n",
              "4  August 16, 2020     ACARA   \n",
              "\n",
              "                                                Link  \\\n",
              "0  https://turnbackhoax.id/2024/06/18/penipuan-su...   \n",
              "1  https://turnbackhoax.id/2020/08/28/acara-lawan...   \n",
              "2  https://turnbackhoax.id/2020/08/27/acara-refle...   \n",
              "3  https://turnbackhoax.id/2020/08/17/acara-merde...   \n",
              "4  https://turnbackhoax.id/2020/08/16/acara-gande...   \n",
              "\n",
              "                                               Title  \\\n",
              "0    Surat Undangan Rakerkesnas Mengatasnamakan RSCM   \n",
              "1                              “Lawan Berita Palsu!”   \n",
              "2                “REFLEKSI INFODEMI DI KALA PANDEMI”   \n",
              "3                    “Merdeka dari Hoaks, Apa Bisa?”   \n",
              "4  “Gandeng MAFINDO, Bawaslu Bekali Pemuda tentan...   \n",
              "\n",
              "                                         Description  \n",
              "0  Hasil periksa fakta Rahmah. RSUPN Dr. Cipto Ma...  \n",
              "1  Facebook Indonesia & Box2Box Indonesia: “Nyama...  \n",
              "2  Klinik Misinformasi: Webinar | Rabu, 26 Agustu...  \n",
              "3  Indorelawan, 14 Agustus 2020. Simak di: View t...  \n",
              "4  Surakarta, 13 Agustus 2020, selengkapnya di: V...  "
            ],
            "text/html": [
              "\n",
              "  <div id=\"df-d899e766-8de0-4f24-a05a-899b4c6540bf\" class=\"colab-df-container\">\n",
              "    <div>\n",
              "<style scoped>\n",
              "    .dataframe tbody tr th:only-of-type {\n",
              "        vertical-align: middle;\n",
              "    }\n",
              "\n",
              "    .dataframe tbody tr th {\n",
              "        vertical-align: top;\n",
              "    }\n",
              "\n",
              "    .dataframe thead th {\n",
              "        text-align: right;\n",
              "    }\n",
              "</style>\n",
              "<table border=\"1\" class=\"dataframe\">\n",
              "  <thead>\n",
              "    <tr style=\"text-align: right;\">\n",
              "      <th></th>\n",
              "      <th>Date</th>\n",
              "      <th>Status</th>\n",
              "      <th>Link</th>\n",
              "      <th>Title</th>\n",
              "      <th>Description</th>\n",
              "    </tr>\n",
              "  </thead>\n",
              "  <tbody>\n",
              "    <tr>\n",
              "      <th>0</th>\n",
              "      <td>June 18, 2024</td>\n",
              "      <td>PENIPUAN</td>\n",
              "      <td>https://turnbackhoax.id/2024/06/18/penipuan-su...</td>\n",
              "      <td>Surat Undangan Rakerkesnas Mengatasnamakan RSCM</td>\n",
              "      <td>Hasil periksa fakta Rahmah. RSUPN Dr. Cipto Ma...</td>\n",
              "    </tr>\n",
              "    <tr>\n",
              "      <th>1</th>\n",
              "      <td>August 28, 2020</td>\n",
              "      <td>ACARA</td>\n",
              "      <td>https://turnbackhoax.id/2020/08/28/acara-lawan...</td>\n",
              "      <td>“Lawan Berita Palsu!”</td>\n",
              "      <td>Facebook Indonesia &amp; Box2Box Indonesia: “Nyama...</td>\n",
              "    </tr>\n",
              "    <tr>\n",
              "      <th>2</th>\n",
              "      <td>August 27, 2020</td>\n",
              "      <td>ACARA</td>\n",
              "      <td>https://turnbackhoax.id/2020/08/27/acara-refle...</td>\n",
              "      <td>“REFLEKSI INFODEMI DI KALA PANDEMI”</td>\n",
              "      <td>Klinik Misinformasi: Webinar | Rabu, 26 Agustu...</td>\n",
              "    </tr>\n",
              "    <tr>\n",
              "      <th>3</th>\n",
              "      <td>August 17, 2020</td>\n",
              "      <td>ACARA</td>\n",
              "      <td>https://turnbackhoax.id/2020/08/17/acara-merde...</td>\n",
              "      <td>“Merdeka dari Hoaks, Apa Bisa?”</td>\n",
              "      <td>Indorelawan, 14 Agustus 2020. Simak di: View t...</td>\n",
              "    </tr>\n",
              "    <tr>\n",
              "      <th>4</th>\n",
              "      <td>August 16, 2020</td>\n",
              "      <td>ACARA</td>\n",
              "      <td>https://turnbackhoax.id/2020/08/16/acara-gande...</td>\n",
              "      <td>“Gandeng MAFINDO, Bawaslu Bekali Pemuda tentan...</td>\n",
              "      <td>Surakarta, 13 Agustus 2020, selengkapnya di: V...</td>\n",
              "    </tr>\n",
              "  </tbody>\n",
              "</table>\n",
              "</div>\n",
              "    <div class=\"colab-df-buttons\">\n",
              "\n",
              "  <div class=\"colab-df-container\">\n",
              "    <button class=\"colab-df-convert\" onclick=\"convertToInteractive('df-d899e766-8de0-4f24-a05a-899b4c6540bf')\"\n",
              "            title=\"Convert this dataframe to an interactive table.\"\n",
              "            style=\"display:none;\">\n",
              "\n",
              "  <svg xmlns=\"http://www.w3.org/2000/svg\" height=\"24px\" viewBox=\"0 -960 960 960\">\n",
              "    <path d=\"M120-120v-720h720v720H120Zm60-500h600v-160H180v160Zm220 220h160v-160H400v160Zm0 220h160v-160H400v160ZM180-400h160v-160H180v160Zm440 0h160v-160H620v160ZM180-180h160v-160H180v160Zm440 0h160v-160H620v160Z\"/>\n",
              "  </svg>\n",
              "    </button>\n",
              "\n",
              "  <style>\n",
              "    .colab-df-container {\n",
              "      display:flex;\n",
              "      gap: 12px;\n",
              "    }\n",
              "\n",
              "    .colab-df-convert {\n",
              "      background-color: #E8F0FE;\n",
              "      border: none;\n",
              "      border-radius: 50%;\n",
              "      cursor: pointer;\n",
              "      display: none;\n",
              "      fill: #1967D2;\n",
              "      height: 32px;\n",
              "      padding: 0 0 0 0;\n",
              "      width: 32px;\n",
              "    }\n",
              "\n",
              "    .colab-df-convert:hover {\n",
              "      background-color: #E2EBFA;\n",
              "      box-shadow: 0px 1px 2px rgba(60, 64, 67, 0.3), 0px 1px 3px 1px rgba(60, 64, 67, 0.15);\n",
              "      fill: #174EA6;\n",
              "    }\n",
              "\n",
              "    .colab-df-buttons div {\n",
              "      margin-bottom: 4px;\n",
              "    }\n",
              "\n",
              "    [theme=dark] .colab-df-convert {\n",
              "      background-color: #3B4455;\n",
              "      fill: #D2E3FC;\n",
              "    }\n",
              "\n",
              "    [theme=dark] .colab-df-convert:hover {\n",
              "      background-color: #434B5C;\n",
              "      box-shadow: 0px 1px 3px 1px rgba(0, 0, 0, 0.15);\n",
              "      filter: drop-shadow(0px 1px 2px rgba(0, 0, 0, 0.3));\n",
              "      fill: #FFFFFF;\n",
              "    }\n",
              "  </style>\n",
              "\n",
              "    <script>\n",
              "      const buttonEl =\n",
              "        document.querySelector('#df-d899e766-8de0-4f24-a05a-899b4c6540bf button.colab-df-convert');\n",
              "      buttonEl.style.display =\n",
              "        google.colab.kernel.accessAllowed ? 'block' : 'none';\n",
              "\n",
              "      async function convertToInteractive(key) {\n",
              "        const element = document.querySelector('#df-d899e766-8de0-4f24-a05a-899b4c6540bf');\n",
              "        const dataTable =\n",
              "          await google.colab.kernel.invokeFunction('convertToInteractive',\n",
              "                                                    [key], {});\n",
              "        if (!dataTable) return;\n",
              "\n",
              "        const docLinkHtml = 'Like what you see? Visit the ' +\n",
              "          '<a target=\"_blank\" href=https://colab.research.google.com/notebooks/data_table.ipynb>data table notebook</a>'\n",
              "          + ' to learn more about interactive tables.';\n",
              "        element.innerHTML = '';\n",
              "        dataTable['output_type'] = 'display_data';\n",
              "        await google.colab.output.renderOutput(dataTable, element);\n",
              "        const docLink = document.createElement('div');\n",
              "        docLink.innerHTML = docLinkHtml;\n",
              "        element.appendChild(docLink);\n",
              "      }\n",
              "    </script>\n",
              "  </div>\n",
              "\n",
              "\n",
              "    <div id=\"df-40af69a1-f461-44df-8430-c5b54b3644a1\">\n",
              "      <button class=\"colab-df-quickchart\" onclick=\"quickchart('df-40af69a1-f461-44df-8430-c5b54b3644a1')\"\n",
              "                title=\"Suggest charts\"\n",
              "                style=\"display:none;\">\n",
              "\n",
              "<svg xmlns=\"http://www.w3.org/2000/svg\" height=\"24px\"viewBox=\"0 0 24 24\"\n",
              "     width=\"24px\">\n",
              "    <g>\n",
              "        <path d=\"M19 3H5c-1.1 0-2 .9-2 2v14c0 1.1.9 2 2 2h14c1.1 0 2-.9 2-2V5c0-1.1-.9-2-2-2zM9 17H7v-7h2v7zm4 0h-2V7h2v10zm4 0h-2v-4h2v4z\"/>\n",
              "    </g>\n",
              "</svg>\n",
              "      </button>\n",
              "\n",
              "<style>\n",
              "  .colab-df-quickchart {\n",
              "      --bg-color: #E8F0FE;\n",
              "      --fill-color: #1967D2;\n",
              "      --hover-bg-color: #E2EBFA;\n",
              "      --hover-fill-color: #174EA6;\n",
              "      --disabled-fill-color: #AAA;\n",
              "      --disabled-bg-color: #DDD;\n",
              "  }\n",
              "\n",
              "  [theme=dark] .colab-df-quickchart {\n",
              "      --bg-color: #3B4455;\n",
              "      --fill-color: #D2E3FC;\n",
              "      --hover-bg-color: #434B5C;\n",
              "      --hover-fill-color: #FFFFFF;\n",
              "      --disabled-bg-color: #3B4455;\n",
              "      --disabled-fill-color: #666;\n",
              "  }\n",
              "\n",
              "  .colab-df-quickchart {\n",
              "    background-color: var(--bg-color);\n",
              "    border: none;\n",
              "    border-radius: 50%;\n",
              "    cursor: pointer;\n",
              "    display: none;\n",
              "    fill: var(--fill-color);\n",
              "    height: 32px;\n",
              "    padding: 0;\n",
              "    width: 32px;\n",
              "  }\n",
              "\n",
              "  .colab-df-quickchart:hover {\n",
              "    background-color: var(--hover-bg-color);\n",
              "    box-shadow: 0 1px 2px rgba(60, 64, 67, 0.3), 0 1px 3px 1px rgba(60, 64, 67, 0.15);\n",
              "    fill: var(--button-hover-fill-color);\n",
              "  }\n",
              "\n",
              "  .colab-df-quickchart-complete:disabled,\n",
              "  .colab-df-quickchart-complete:disabled:hover {\n",
              "    background-color: var(--disabled-bg-color);\n",
              "    fill: var(--disabled-fill-color);\n",
              "    box-shadow: none;\n",
              "  }\n",
              "\n",
              "  .colab-df-spinner {\n",
              "    border: 2px solid var(--fill-color);\n",
              "    border-color: transparent;\n",
              "    border-bottom-color: var(--fill-color);\n",
              "    animation:\n",
              "      spin 1s steps(1) infinite;\n",
              "  }\n",
              "\n",
              "  @keyframes spin {\n",
              "    0% {\n",
              "      border-color: transparent;\n",
              "      border-bottom-color: var(--fill-color);\n",
              "      border-left-color: var(--fill-color);\n",
              "    }\n",
              "    20% {\n",
              "      border-color: transparent;\n",
              "      border-left-color: var(--fill-color);\n",
              "      border-top-color: var(--fill-color);\n",
              "    }\n",
              "    30% {\n",
              "      border-color: transparent;\n",
              "      border-left-color: var(--fill-color);\n",
              "      border-top-color: var(--fill-color);\n",
              "      border-right-color: var(--fill-color);\n",
              "    }\n",
              "    40% {\n",
              "      border-color: transparent;\n",
              "      border-right-color: var(--fill-color);\n",
              "      border-top-color: var(--fill-color);\n",
              "    }\n",
              "    60% {\n",
              "      border-color: transparent;\n",
              "      border-right-color: var(--fill-color);\n",
              "    }\n",
              "    80% {\n",
              "      border-color: transparent;\n",
              "      border-right-color: var(--fill-color);\n",
              "      border-bottom-color: var(--fill-color);\n",
              "    }\n",
              "    90% {\n",
              "      border-color: transparent;\n",
              "      border-bottom-color: var(--fill-color);\n",
              "    }\n",
              "  }\n",
              "</style>\n",
              "\n",
              "      <script>\n",
              "        async function quickchart(key) {\n",
              "          const quickchartButtonEl =\n",
              "            document.querySelector('#' + key + ' button');\n",
              "          quickchartButtonEl.disabled = true;  // To prevent multiple clicks.\n",
              "          quickchartButtonEl.classList.add('colab-df-spinner');\n",
              "          try {\n",
              "            const charts = await google.colab.kernel.invokeFunction(\n",
              "                'suggestCharts', [key], {});\n",
              "          } catch (error) {\n",
              "            console.error('Error during call to suggestCharts:', error);\n",
              "          }\n",
              "          quickchartButtonEl.classList.remove('colab-df-spinner');\n",
              "          quickchartButtonEl.classList.add('colab-df-quickchart-complete');\n",
              "        }\n",
              "        (() => {\n",
              "          let quickchartButtonEl =\n",
              "            document.querySelector('#df-40af69a1-f461-44df-8430-c5b54b3644a1 button');\n",
              "          quickchartButtonEl.style.display =\n",
              "            google.colab.kernel.accessAllowed ? 'block' : 'none';\n",
              "        })();\n",
              "      </script>\n",
              "    </div>\n",
              "\n",
              "    </div>\n",
              "  </div>\n"
            ],
            "application/vnd.google.colaboratory.intrinsic+json": {
              "type": "dataframe",
              "variable_name": "df",
              "summary": "{\n  \"name\": \"df\",\n  \"rows\": 16459,\n  \"fields\": [\n    {\n      \"column\": \"Date\",\n      \"properties\": {\n        \"dtype\": \"object\",\n        \"num_unique_values\": 2986,\n        \"samples\": [\n          \"February 19, 2019\",\n          \"April 15, 2020\",\n          \"April 21, 2021\"\n        ],\n        \"semantic_type\": \"\",\n        \"description\": \"\"\n      }\n    },\n    {\n      \"column\": \"Status\",\n      \"properties\": {\n        \"dtype\": \"category\",\n        \"num_unique_values\": 68,\n        \"samples\": [\n          \"HOAX/FITNAH\",\n          \"DISINFORMASI + HASUT\",\n          \"Belum Terbukti\"\n        ],\n        \"semantic_type\": \"\",\n        \"description\": \"\"\n      }\n    },\n    {\n      \"column\": \"Link\",\n      \"properties\": {\n        \"dtype\": \"string\",\n        \"num_unique_values\": 16459,\n        \"samples\": [\n          \"https://turnbackhoax.id/2024/03/31/salah-surat-permohonan-narasumber-mengatasnamakan-polres-purwakarta/\",\n          \"https://turnbackhoax.id/2023/02/09/salah-jokowi-incar-babi-panggang-saat-pesta-imlek/\",\n          \"https://turnbackhoax.id/2021/01/20/salah-video-bill-gates-rapat-dengan-cia-mengenai-vaksin-pada-tahun-2005/\"\n        ],\n        \"semantic_type\": \"\",\n        \"description\": \"\"\n      }\n    },\n    {\n      \"column\": \"Title\",\n      \"properties\": {\n        \"dtype\": \"string\",\n        \"num_unique_values\": 16394,\n        \"samples\": [\n          \"\\u201cPare Tidak Serta-merta Bisa Menyembuhkan Kanker\\u201d\",\n          \"Penganut Islam Kristen, Yahudi dan Buddha Hadir di Selandia Baru Mengalunkan Asmaul Husna dan Kalimat Tauhid untuk Menghadapi Wabah Corona\",\n          \"Universitas Brawijaya Kembalikan Uang Kuliah Akibat Persebaran Virus Corona\"\n        ],\n        \"semantic_type\": \"\",\n        \"description\": \"\"\n      }\n    },\n    {\n      \"column\": \"Description\",\n      \"properties\": {\n        \"dtype\": \"string\",\n        \"num_unique_values\": 16435,\n        \"samples\": [\n          \"Hasil Periksa Fakta Ani Nur MR (Universitas Airlangga). Klaim yang salah. Faktanya, Komnas HAM telah membentuk tim lapangan untuk melakukan pemantauan dan penyelidikan terhadap kasus teorisme di Sigi. Tim telah diterjunkan ke TKP, Senin (30/11), untuk mengumpulkan bukti-bukti dengan bertemu berbagai pihak terkait dan keluarga korban. Selengkapnya baca di PENJELASAN dan REFERENSI. ==== KATEGORI: KONTEN MENYESATKAN ==== SUMBER: Facebook https://archive.vn/4Ur7x ==== NARASI: \\u201cLuar biasa Komnas HAM, dengan ditembaknya 6 anggota FPI maka dibentuk TPF, responsif sekali. Pertanyaannya waktu Kasus di SIGI 4 orang dibantai dgn sadis, mereka ini diam saja, ada dimana mereka\\u2026?\\u201d ==== PENJELASAN: Akun Facebook bernama Hasan Basri membagikan postingan di grup \\u201cSuara Rakyat Surabaya\\u201d, postingan asli berasal dari akun bernama Sostra Sihombing Vincensia ( https://archive.vn/zknDk ) . Postingan yang mendapat 40 likes dan 19 komentar tersebut mengklaim bahwa Komnas HAM tidak melakukan upaya tindakan atas kasus pembantaian 4 orang di Sigi beberapa waktu lalu. Setelah dilakukan penelusuran fakta, Komnas HAM telah mengerahkan tim untuk melakukan pemantauan dan penyelidikan terkait kasus Sigi. Dilansir dari jpnn.com , tim dari Komnas HAM telah terjun ke lokasi ada Senin (30/11), dipimpin oleh kepala perwakilan kantor Komnas HAM Sulawesi Tengah Dedi Ashari. Informasi bahwa Komnas HAM mengerahkan tim untuk pemantauan di lapangan juga dimuat dalam artikel kompas.com berjudul \\u201cKomnas HAM Bentuk Tim untuk Selidiki Peristiwa di Sigi\\u201d (30/11) dan cirebon.pikiran-rakyat.com berjudul \\u201cDianggap Hanya Urus Tewasnya 6 Pengawal HRS dan Abaikan Teror Sigi, Komnas HAM Beberkan Alasannya\\u201d (10/12). \\u201cKomnas HAM itu kirim ke sana. Tim sedang proses di lapangan. Kemarin kami mengumpulkan semua informasi, semua bukti, dan sebagainya, termasuk juga bertemu tokoh agama di Palu dan beberapa tempat penting yang menurut kami,\\u201d ungkap Komisioner Komnas HAM Choirul Anam kepada jpnn, Rabu (2/12) . Tim yang terjun ke lapangan di antaranya bertugas untuk mengumpulkan informasi berikut bukti-bukti dari berbagai pihak terkait, keluarga korban, dan tokoh agama setempat. Selain itu, pihak Komnas HAM menyebutkan, tim juga menelisik informasi pelaku pembantaian, misalnya dugaan bahwa pelaku berasal dari Mujahidin Indonesia Timur (MIT) dan meneliti kebobolan aparat keamanan yakni Tim Tinombala untuk menjaga wilayahnya dari serangan terorisme. Dalam artikel yang dimuat cirebon.pikiran-rakyat.com , kamis (10/12), serta bersumber dari akun resmi milik Komisioner Pendidikan dan Penyuluhan Komnas HAM, Beka Ulung Hapsara memberikan klarifikasi bahwa adanya perbedaan penanganan antara kasus terorisme Sigi dan penembakan 6 anggota FPI. Hal itu didasarkan mekanisme penanganan yang sesuai dengan Undang-undang. Namun kedua kasus telah dikerahkan tim lapangan untuk penyelidikan dan pemantauan. \\u201cUntuk ketiga peristiwa tersebut Komnas membentuk tim pemantauan dan penyelidikan. Semuanya turun langsung ke lokasi atau TKP, ketemu para pihak, keluarga korban dan mengumpulkan bukti-bukti. Ada perbedaan mendasar dari tiga kejadian. Peristiwa Papua dan FPI (terduga) pelakunya aktor negara. Sementara Sigi aktornya bukan negara, kelompok teroris. Perlakuannya berbeda, Papua dan FPI dianalisa dgn UU No 39/1999 ttg HAM, teror di sigi memakai UU Tindak Pidana Terorisme\\u201d, ungkap Beka Hapsara di akun Twitternya (9/12). Berdasarkan data yang terkumpul dapat disimpulkan bahwa Komnas HAM telah mengerahkan tim lapangan untuk melakukan penyelidikan dan pemantauan kasus terorisme Sigi. Sehingga klaim Komnas HAM hanya diam terhadap kasus Sigi adalah HOAX dan termasuk ketegori KONTEN MENYESATKAN. ==== REFERENSI: https://www.jpnn.com/news/komnas-ham-menerjunkan-tim-khusus-menelusuri-kasus-sigi-sulteng https://www.jpnn.com/news/komnas-ham-menerjunkan-tim-khusus-menelusuri-kasus-sigi-sulteng https://cirebon.pikiran-rakyat.com/nasional/pr-041085571/dianggap-hanya-urus-tewasnya-6-pengawal-hrs-dan-abaikan-teror-sigi-komnas-ham-beberkan-alasannya Selama tiga hari terakhir Komnas jadi perhatian, harapan dan juga sasaran kemarahan banyak orang. Banyak yang marah karena komnas dianggap hanya cepat merespon peristiwa meninggalnya 6 orang anggota FPI tetapi abai atau diam dengan kejadian Teror di Sigi \\u2014 Beka Ulung Hapsara (@Bekahapsara) December 9, 2020\",\n          \"Foto hasil suntingan. Foto serupa ditemukan pada kanal Youtube SYS ENTERTAINMENT, yang diunggah pada 5 Februari 2019 dengan judul \\u201ckazakhstan news reporter sounds like diesel truck starting in the morning women edition\\u201d. Selengkapnya terdapat di penjelasan! KATEGORI: MANIPULATED CONTENT/ KONTEN YANG DIMANIPULASI === SUMBER: MEDIA SOSIAL FACEBOOK https://archive.fo/HnOOi === NARASI: \\u201cAKHIRNYA, LARANGAN MUDIK DICABUT\\u201d === PENJELASAN: Melalui media sosial Facebook, akun Yahdi Mahyassa mengunggah tangkapan layar yang memperlihatkan seorang penyiar berita dengan narasi \\u201cAKHIRNYA, LARANGAN MUDIK DICABUT\\u201d. Diunggah pada 28 April 2021, unggahan tersebut mendapat atensi berupa 11 suka dan 5 kali dibagikan. Berdasar penelusuran lebih lanjut, foto pada unggahan tersebut diketahui sudah melalui proses penyuntingan. Pencarian fakta dilakukan dengan menggunakan mesin pencari gambar milik google, faktanya foto serupa ditemukan pada kanal Youtube SYS ENTERTAINMENT. Pada unggahan video di akun SYS ENTERTAINMENT, judul yang disematkan untuk pewarta tersebut adalah \\u201ckazakhstan news reporter sounds like diesel truck starting in the morning women edition\\u201d, atau dengan kata lain tidak ditemukan narasi \\u201cAKHIRNYA, LARANGAN MUDIK DICABUT\\u201d seperti halnya yang tengah beredar. Jika mengacu kepada seluruh referensi, diketahui bahwa unggahan akun Yahdi Mahyassa adalah tidak sesuai dengan fakta. Unggahan tersebut merupakan hoaks dengan kategori manipulated content atau konten yang dimanipulasi. === REFERENSI: https://www.liputan6.com/cek-fakta/read/4544362/cek-fakta-tidak-benar-video-siaran-berita-larangan-mudik-dicabut? https://www.merdeka.com/cek-fakta/cek-fakta-tidak-benar-siaran-berita-tentang-larangan-mudik-dicabut.html https://www.medcom.id/telusur/cek-fakta/RkjlJY6N-cek-fakta-siaran-berita-larangan-mudik-dicabut-ini-faktanya?\",\n          \"Hasil periksa fakta Vendra Panji Faktanya dalam kejadian demo di gedung DPR pada 12 Mei 2024 kemarin tidak ada artikel-artikel yang menyebutkan adanya korban akibat dari peristiwa tersebut. =========== [KATEGORI]: Konten dimanipulasi =========== [SUMBER]: YOUTUBE https://ghostarchive.org/varchive/jxbQVXqyGBs arsip) =========== [NARASI]: DPR BANJIR DAR4H\\u203c\\ufe0fTRAGEDI SADIS 98 TERULANG LAGI, J0K0WI SAMPAI KABUR DARI BELAKANG =========== [PENJELASAN]: Beredar sebuah video di Youtube yang membagikan sebuah klaim mengenai demo mahasiswa yang terjadi di gedung DPR RI pada 12 Mei 2024 kemarin dibanjiri oleh darah hingga membuat Jokowi kabur. Dalam isi video dijelaskan jika demo tersebut dilakukan oleh para mahasiswa dari Trisakti, mereka melakukan demo tersebut dalam rangka untuk menyuarakan tragedi 12 Mei 1998 yang mana pada saat itu ada 4 mahasiswa Trisakti yang menjadi korban jiwa dalam aksi demonstrasi menuntut Soeharto turun dari jabatan Presiden pada tanggal 12 Mei 1998. Akan tetapi melansir beberapa artikel dari liputan6.com dan rctiplus.com, meskipun beberapa mahasiswa berhasil menjebol pintu belakang gedung DPR, tetapi tidak disebutkan jika dalam demo 12 Mei 2024 kemarin ada korban luka berat ataupun korban meninggal di peristiwa tersebut. =========== [REFERENSI] : https://www.rctiplus.com/news/detail/berita-utama/4371171/demo-kasus-12-mei-rusuh\\u2013pagar-dpr-sempat-dijebol-mahasiswa-trisakti https://www.liputan6.com/news/read/5598563/demo-ricuh-ratusan-mahasiswa-memaksa-masuk-gedung-dpr-ri\"\n        ],\n        \"semantic_type\": \"\",\n        \"description\": \"\"\n      }\n    }\n  ]\n}"
            }
          },
          "metadata": {},
          "execution_count": 4
        }
      ]
    },
    {
      "cell_type": "markdown",
      "source": [
        "# **Cleaning Data**"
      ],
      "metadata": {
        "id": "9coeRLj-VjXh"
      }
    },
    {
      "cell_type": "markdown",
      "source": [
        "**Menangani Missing Value**"
      ],
      "metadata": {
        "id": "KDgFgqYmV1sy"
      }
    },
    {
      "cell_type": "code",
      "source": [
        "# Hapus baris dengan nilai kosong pada kolom penting\n",
        "df = df.dropna(subset=['Title', 'Description', 'Status'])\n",
        "\n",
        "df.shape"
      ],
      "metadata": {
        "id": "sFad6M34cLU2",
        "colab": {
          "base_uri": "https://localhost:8080/"
        },
        "outputId": "5898ffb0-9ed2-429c-f5dc-cad6b601c65a"
      },
      "execution_count": null,
      "outputs": [
        {
          "output_type": "execute_result",
          "data": {
            "text/plain": [
              "(16445, 5)"
            ]
          },
          "metadata": {},
          "execution_count": 6
        }
      ]
    },
    {
      "cell_type": "markdown",
      "source": [
        "**Normalisasi Label**"
      ],
      "metadata": {
        "id": "nY5PZ48VcNMU"
      }
    },
    {
      "cell_type": "markdown",
      "source": [
        "**Remove Special Characters, Symbols, and Hashtags**"
      ],
      "metadata": {
        "id": "aYY7pnw3ng6B"
      }
    },
    {
      "cell_type": "code",
      "source": [
        "def clean_text(text):\n",
        "    # Lowercase\n",
        "    text = text.lower()\n",
        "    # Remove URL\n",
        "    text = re.sub(r'http\\S+|www.\\S+', '', text)\n",
        "    # Remove non-alphabetic characters and extra spaces\n",
        "    text = re.sub(r'[^a-z\\s]', '', text)\n",
        "    # Remove extra whitespace\n",
        "    text = re.sub(r'\\s+', ' ', text).strip()\n",
        "    return text\n",
        "\n",
        "# Terapkan pada kolom 'Combined_Text'\n",
        "df['Cleaned_Text'] = df['Description'].apply(clean_text)\n",
        "\n",
        "print(\"Contoh teks setelah membersihkan karakter khusus:\")\n",
        "df['Cleaned_Text']"
      ],
      "metadata": {
        "colab": {
          "base_uri": "https://localhost:8080/",
          "height": 580
        },
        "id": "dX1dMlQHncT9",
        "outputId": "f7adb830-77e2-4253-b521-cbb220a52c41"
      },
      "execution_count": null,
      "outputs": [
        {
          "output_type": "stream",
          "name": "stdout",
          "text": [
            "Contoh teks setelah membersihkan karakter khusus:\n"
          ]
        },
        {
          "output_type": "stream",
          "name": "stderr",
          "text": [
            "<ipython-input-9-3f49c38c8906>:13: SettingWithCopyWarning: \n",
            "A value is trying to be set on a copy of a slice from a DataFrame.\n",
            "Try using .loc[row_indexer,col_indexer] = value instead\n",
            "\n",
            "See the caveats in the documentation: https://pandas.pydata.org/pandas-docs/stable/user_guide/indexing.html#returning-a-view-versus-a-copy\n",
            "  df['Cleaned_Text'] = df['Description'].apply(clean_text)\n"
          ]
        },
        {
          "output_type": "execute_result",
          "data": {
            "text/plain": [
              "0        hasil periksa fakta rahmah rsupn dr cipto mang...\n",
              "1        facebook indonesia boxbox indonesia nyaman di ...\n",
              "2        klinik misinformasi webinar rabu agustus wib s...\n",
              "3        indorelawan agustus simak di view this post on...\n",
              "4        surakarta agustus selengkapnya di view this po...\n",
              "                               ...                        \n",
              "16454    mafindo pernah men debunk kompascom karena kom...\n",
              "16455    update dari artikel berikut setelah menelusuri...\n",
              "16456    terdapat informasi terbaru dari artikel periks...\n",
              "16457    direktur jenderal pencemaran dan kerusakan lin...\n",
              "16458    wakil gubernur dki jakarta sandiaga uno memban...\n",
              "Name: Cleaned_Text, Length: 16445, dtype: object"
            ],
            "text/html": [
              "<div>\n",
              "<style scoped>\n",
              "    .dataframe tbody tr th:only-of-type {\n",
              "        vertical-align: middle;\n",
              "    }\n",
              "\n",
              "    .dataframe tbody tr th {\n",
              "        vertical-align: top;\n",
              "    }\n",
              "\n",
              "    .dataframe thead th {\n",
              "        text-align: right;\n",
              "    }\n",
              "</style>\n",
              "<table border=\"1\" class=\"dataframe\">\n",
              "  <thead>\n",
              "    <tr style=\"text-align: right;\">\n",
              "      <th></th>\n",
              "      <th>Cleaned_Text</th>\n",
              "    </tr>\n",
              "  </thead>\n",
              "  <tbody>\n",
              "    <tr>\n",
              "      <th>0</th>\n",
              "      <td>hasil periksa fakta rahmah rsupn dr cipto mang...</td>\n",
              "    </tr>\n",
              "    <tr>\n",
              "      <th>1</th>\n",
              "      <td>facebook indonesia boxbox indonesia nyaman di ...</td>\n",
              "    </tr>\n",
              "    <tr>\n",
              "      <th>2</th>\n",
              "      <td>klinik misinformasi webinar rabu agustus wib s...</td>\n",
              "    </tr>\n",
              "    <tr>\n",
              "      <th>3</th>\n",
              "      <td>indorelawan agustus simak di view this post on...</td>\n",
              "    </tr>\n",
              "    <tr>\n",
              "      <th>4</th>\n",
              "      <td>surakarta agustus selengkapnya di view this po...</td>\n",
              "    </tr>\n",
              "    <tr>\n",
              "      <th>...</th>\n",
              "      <td>...</td>\n",
              "    </tr>\n",
              "    <tr>\n",
              "      <th>16454</th>\n",
              "      <td>mafindo pernah men debunk kompascom karena kom...</td>\n",
              "    </tr>\n",
              "    <tr>\n",
              "      <th>16455</th>\n",
              "      <td>update dari artikel berikut setelah menelusuri...</td>\n",
              "    </tr>\n",
              "    <tr>\n",
              "      <th>16456</th>\n",
              "      <td>terdapat informasi terbaru dari artikel periks...</td>\n",
              "    </tr>\n",
              "    <tr>\n",
              "      <th>16457</th>\n",
              "      <td>direktur jenderal pencemaran dan kerusakan lin...</td>\n",
              "    </tr>\n",
              "    <tr>\n",
              "      <th>16458</th>\n",
              "      <td>wakil gubernur dki jakarta sandiaga uno memban...</td>\n",
              "    </tr>\n",
              "  </tbody>\n",
              "</table>\n",
              "<p>16445 rows × 1 columns</p>\n",
              "</div><br><label><b>dtype:</b> object</label>"
            ]
          },
          "metadata": {},
          "execution_count": 9
        }
      ]
    },
    {
      "cell_type": "markdown",
      "source": [
        "**Tokenisasi**"
      ],
      "metadata": {
        "id": "pV50ZUCfnuVN"
      }
    },
    {
      "cell_type": "code",
      "source": [
        "# Tokenisasi menggunakan nltk\n",
        "df['Tokenized'] = df['Cleaned_Text'].apply(word_tokenize)\n",
        "\n",
        "print(\"Contoh teks setelah tokenisasi:\")\n",
        "print(df['Tokenized'].head(5))"
      ],
      "metadata": {
        "colab": {
          "base_uri": "https://localhost:8080/"
        },
        "id": "XJ11Y5_3nmno",
        "outputId": "4dca3e6a-02a4-4739-f53d-fb71d1f6c285"
      },
      "execution_count": null,
      "outputs": [
        {
          "output_type": "stream",
          "name": "stdout",
          "text": [
            "Contoh teks setelah tokenisasi:\n",
            "0    [hasil, periksa, fakta, rahmah, rsupn, dr, cip...\n",
            "1    [facebook, indonesia, boxbox, indonesia, nyama...\n",
            "2    [klinik, misinformasi, webinar, rabu, agustus,...\n",
            "3    [indorelawan, agustus, simak, di, view, this, ...\n",
            "4    [surakarta, agustus, selengkapnya, di, view, t...\n",
            "Name: Tokenized, dtype: object\n"
          ]
        },
        {
          "output_type": "stream",
          "name": "stderr",
          "text": [
            "<ipython-input-11-859804c47e93>:2: SettingWithCopyWarning: \n",
            "A value is trying to be set on a copy of a slice from a DataFrame.\n",
            "Try using .loc[row_indexer,col_indexer] = value instead\n",
            "\n",
            "See the caveats in the documentation: https://pandas.pydata.org/pandas-docs/stable/user_guide/indexing.html#returning-a-view-versus-a-copy\n",
            "  df['Tokenized'] = df['Cleaned_Text'].apply(word_tokenize)\n"
          ]
        }
      ]
    },
    {
      "cell_type": "markdown",
      "source": [
        "**Stopword removal**"
      ],
      "metadata": {
        "id": "lw0WuNzjn4o2"
      }
    },
    {
      "cell_type": "code",
      "source": [
        "# Mengambil daftar stopwords bahasa Indonesia\n",
        "stop_words = set(stopwords.words('indonesian'))\n",
        "\n",
        "def remove_stopwords(text):\n",
        "    return [word for word in text if word not in stop_words]\n",
        "\n",
        "# Menghapus stopwords pada kolom Tokenized\n",
        "df['No_Stopwords'] = df['Tokenized'].apply(remove_stopwords)\n",
        "\n",
        "print(\"Contoh teks setelah menghapus stopwords:\")\n",
        "df['No_Stopwords'].head(5)"
      ],
      "metadata": {
        "colab": {
          "base_uri": "https://localhost:8080/",
          "height": 362
        },
        "id": "cAmzDhRPn25K",
        "outputId": "a1b9bbf3-19d2-41b9-bdac-b95a42da38f9"
      },
      "execution_count": null,
      "outputs": [
        {
          "output_type": "stream",
          "name": "stdout",
          "text": [
            "Contoh teks setelah menghapus stopwords:\n"
          ]
        },
        {
          "output_type": "stream",
          "name": "stderr",
          "text": [
            "<ipython-input-12-5034968f2622>:8: SettingWithCopyWarning: \n",
            "A value is trying to be set on a copy of a slice from a DataFrame.\n",
            "Try using .loc[row_indexer,col_indexer] = value instead\n",
            "\n",
            "See the caveats in the documentation: https://pandas.pydata.org/pandas-docs/stable/user_guide/indexing.html#returning-a-view-versus-a-copy\n",
            "  df['No_Stopwords'] = df['Tokenized'].apply(remove_stopwords)\n"
          ]
        },
        {
          "output_type": "execute_result",
          "data": {
            "text/plain": [
              "0    [hasil, periksa, fakta, rahmah, rsupn, dr, cip...\n",
              "1    [facebook, indonesia, boxbox, indonesia, nyama...\n",
              "2    [klinik, misinformasi, webinar, rabu, agustus,...\n",
              "3    [indorelawan, agustus, simak, view, this, post...\n",
              "4    [surakarta, agustus, selengkapnya, view, this,...\n",
              "Name: No_Stopwords, dtype: object"
            ],
            "text/html": [
              "<div>\n",
              "<style scoped>\n",
              "    .dataframe tbody tr th:only-of-type {\n",
              "        vertical-align: middle;\n",
              "    }\n",
              "\n",
              "    .dataframe tbody tr th {\n",
              "        vertical-align: top;\n",
              "    }\n",
              "\n",
              "    .dataframe thead th {\n",
              "        text-align: right;\n",
              "    }\n",
              "</style>\n",
              "<table border=\"1\" class=\"dataframe\">\n",
              "  <thead>\n",
              "    <tr style=\"text-align: right;\">\n",
              "      <th></th>\n",
              "      <th>No_Stopwords</th>\n",
              "    </tr>\n",
              "  </thead>\n",
              "  <tbody>\n",
              "    <tr>\n",
              "      <th>0</th>\n",
              "      <td>[hasil, periksa, fakta, rahmah, rsupn, dr, cip...</td>\n",
              "    </tr>\n",
              "    <tr>\n",
              "      <th>1</th>\n",
              "      <td>[facebook, indonesia, boxbox, indonesia, nyama...</td>\n",
              "    </tr>\n",
              "    <tr>\n",
              "      <th>2</th>\n",
              "      <td>[klinik, misinformasi, webinar, rabu, agustus,...</td>\n",
              "    </tr>\n",
              "    <tr>\n",
              "      <th>3</th>\n",
              "      <td>[indorelawan, agustus, simak, view, this, post...</td>\n",
              "    </tr>\n",
              "    <tr>\n",
              "      <th>4</th>\n",
              "      <td>[surakarta, agustus, selengkapnya, view, this,...</td>\n",
              "    </tr>\n",
              "  </tbody>\n",
              "</table>\n",
              "</div><br><label><b>dtype:</b> object</label>"
            ]
          },
          "metadata": {},
          "execution_count": 12
        }
      ]
    },
    {
      "cell_type": "markdown",
      "source": [
        "**Lematisasi**"
      ],
      "metadata": {
        "id": "Bz72wISnoDhj"
      }
    },
    {
      "cell_type": "code",
      "source": [
        "# Install NLTK jika belum ada\n",
        "!pip install nltk\n",
        "\n",
        "# Import NLTK dan lemmatizer\n",
        "import nltk\n",
        "from nltk.stem import WordNetLemmatizer\n",
        "from nltk.corpus import wordnet\n",
        "\n",
        "# Download resource jika belum ada\n",
        "nltk.download('punkt')\n",
        "nltk.download('wordnet')\n",
        "nltk.download('omw-1.4')\n",
        "\n",
        "# Inisialisasi lemmatizer\n",
        "lemmatizer = WordNetLemmatizer()\n",
        "\n",
        "# Fungsi lematisasi\n",
        "def lemmatize_words(text):\n",
        "    return [lemmatizer.lemmatize(word) for word in text]\n",
        "\n",
        "# Terapkan lematisasi\n",
        "df['Lemmatized'] = df['No_Stopwords'].apply(lemmatize_words)\n",
        "\n",
        "# Gabungkan kata setelah lemmatization\n",
        "df['Processed_Text'] = df['Lemmatized'].apply(lambda x: ' '.join(x))\n",
        "\n",
        "print(\"Contoh teks setelah lemmatization:\")\n",
        "df['Processed_Text'].head(5)"
      ],
      "metadata": {
        "colab": {
          "base_uri": "https://localhost:8080/",
          "height": 622
        },
        "id": "guxq-KE0oCFC",
        "outputId": "9519649f-7116-4f71-e8ee-f10ad137b5bb"
      },
      "execution_count": null,
      "outputs": [
        {
          "output_type": "stream",
          "name": "stdout",
          "text": [
            "Requirement already satisfied: nltk in /usr/local/lib/python3.11/dist-packages (3.9.1)\n",
            "Requirement already satisfied: click in /usr/local/lib/python3.11/dist-packages (from nltk) (8.1.8)\n",
            "Requirement already satisfied: joblib in /usr/local/lib/python3.11/dist-packages (from nltk) (1.5.0)\n",
            "Requirement already satisfied: regex>=2021.8.3 in /usr/local/lib/python3.11/dist-packages (from nltk) (2024.11.6)\n",
            "Requirement already satisfied: tqdm in /usr/local/lib/python3.11/dist-packages (from nltk) (4.67.1)\n"
          ]
        },
        {
          "output_type": "stream",
          "name": "stderr",
          "text": [
            "[nltk_data] Downloading package punkt to /root/nltk_data...\n",
            "[nltk_data]   Unzipping tokenizers/punkt.zip.\n",
            "[nltk_data] Downloading package wordnet to /root/nltk_data...\n",
            "[nltk_data] Downloading package omw-1.4 to /root/nltk_data...\n"
          ]
        },
        {
          "output_type": "stream",
          "name": "stdout",
          "text": [
            "Contoh teks setelah lemmatization:\n"
          ]
        },
        {
          "output_type": "stream",
          "name": "stderr",
          "text": [
            "<ipython-input-13-fa2fd7b2014a>:22: SettingWithCopyWarning: \n",
            "A value is trying to be set on a copy of a slice from a DataFrame.\n",
            "Try using .loc[row_indexer,col_indexer] = value instead\n",
            "\n",
            "See the caveats in the documentation: https://pandas.pydata.org/pandas-docs/stable/user_guide/indexing.html#returning-a-view-versus-a-copy\n",
            "  df['Lemmatized'] = df['No_Stopwords'].apply(lemmatize_words)\n",
            "<ipython-input-13-fa2fd7b2014a>:25: SettingWithCopyWarning: \n",
            "A value is trying to be set on a copy of a slice from a DataFrame.\n",
            "Try using .loc[row_indexer,col_indexer] = value instead\n",
            "\n",
            "See the caveats in the documentation: https://pandas.pydata.org/pandas-docs/stable/user_guide/indexing.html#returning-a-view-versus-a-copy\n",
            "  df['Processed_Text'] = df['Lemmatized'].apply(lambda x: ' '.join(x))\n"
          ]
        },
        {
          "output_type": "execute_result",
          "data": {
            "text/plain": [
              "0    hasil periksa fakta rahmah rsupn dr cipto mang...\n",
              "1    facebook indonesia boxbox indonesia nyaman sos...\n",
              "2    klinik misinformasi webinar rabu agustus wib s...\n",
              "3    indorelawan agustus simak view this post on in...\n",
              "4    surakarta agustus selengkapnya view this post ...\n",
              "Name: Processed_Text, dtype: object"
            ],
            "text/html": [
              "<div>\n",
              "<style scoped>\n",
              "    .dataframe tbody tr th:only-of-type {\n",
              "        vertical-align: middle;\n",
              "    }\n",
              "\n",
              "    .dataframe tbody tr th {\n",
              "        vertical-align: top;\n",
              "    }\n",
              "\n",
              "    .dataframe thead th {\n",
              "        text-align: right;\n",
              "    }\n",
              "</style>\n",
              "<table border=\"1\" class=\"dataframe\">\n",
              "  <thead>\n",
              "    <tr style=\"text-align: right;\">\n",
              "      <th></th>\n",
              "      <th>Processed_Text</th>\n",
              "    </tr>\n",
              "  </thead>\n",
              "  <tbody>\n",
              "    <tr>\n",
              "      <th>0</th>\n",
              "      <td>hasil periksa fakta rahmah rsupn dr cipto mang...</td>\n",
              "    </tr>\n",
              "    <tr>\n",
              "      <th>1</th>\n",
              "      <td>facebook indonesia boxbox indonesia nyaman sos...</td>\n",
              "    </tr>\n",
              "    <tr>\n",
              "      <th>2</th>\n",
              "      <td>klinik misinformasi webinar rabu agustus wib s...</td>\n",
              "    </tr>\n",
              "    <tr>\n",
              "      <th>3</th>\n",
              "      <td>indorelawan agustus simak view this post on in...</td>\n",
              "    </tr>\n",
              "    <tr>\n",
              "      <th>4</th>\n",
              "      <td>surakarta agustus selengkapnya view this post ...</td>\n",
              "    </tr>\n",
              "  </tbody>\n",
              "</table>\n",
              "</div><br><label><b>dtype:</b> object</label>"
            ]
          },
          "metadata": {},
          "execution_count": 13
        }
      ]
    },
    {
      "cell_type": "markdown",
      "source": [
        "**Pengelompokkan Label**"
      ],
      "metadata": {
        "id": "rB7-BtX1rUMd"
      }
    },
    {
      "cell_type": "code",
      "source": [
        "# Pemetaan label Status ke Validitas\n",
        "status_mapping = {\n",
        "    # Validitas Tinggi\n",
        "    'ACARA': 'validitas tinggi',\n",
        "    'Admin Post': 'validitas tinggi',\n",
        "    'BENAR': 'validitas tinggi',\n",
        "    'Benar': 'validitas tinggi',\n",
        "    'BERITA': 'validitas tinggi',\n",
        "    'BERITA, EDUKASI': 'validitas tinggi',\n",
        "    'Cek Fakta': 'validitas tinggi',\n",
        "    'CekFakta': 'validitas tinggi',\n",
        "    'KLARIFIKASI': 'validitas tinggi',\n",
        "    'Klarifikasi': 'validitas tinggi',\n",
        "    'KLARIFIKASI, EDUKASI': 'validitas tinggi',\n",
        "    'EDUKASI': 'validitas tinggi',\n",
        "    'EDUKASI, BERITA': 'validitas tinggi',\n",
        "    'INFORMASI': 'validitas tinggi',\n",
        "    'INFORMASI & EDUKASI': 'validitas tinggi',\n",
        "    'INFORMASI, EDUKASI': 'validitas tinggi',\n",
        "    'FAKTA': 'validitas tinggi',\n",
        "    'KOREKSI': 'validitas tinggi',\n",
        "    'RILIS PERS': 'validitas tinggi',\n",
        "    'Siaran Pers': 'validitas tinggi',\n",
        "    'UPDATE': 'validitas tinggi',\n",
        "    'EVENT': 'validitas tinggi',\n",
        "    'INFO': 'validitas tinggi',\n",
        "\n",
        "    # Validitas Sedang\n",
        "    'BELUM TERBUKTI': 'validitas sedang',\n",
        "    'Belum Terbukti': 'validitas sedang',\n",
        "    'ISU': 'validitas sedang',\n",
        "    'Isu': 'validitas sedang',\n",
        "    'DOKUMENTASI': 'validitas sedang',\n",
        "    'PARODI': 'validitas sedang',\n",
        "    'SATIRE': 'validitas sedang',\n",
        "\n",
        "    # Validitas Rendah\n",
        "    'PENIPUAN': 'validitas rendah',\n",
        "    'DISINFORMASI': 'validitas rendah',\n",
        "    'Disinformasi': 'validitas rendah',\n",
        "    'DISINFORMASI & HASUT': 'validitas rendah',\n",
        "    'DISINFORMASI + HASUT': 'validitas rendah',\n",
        "    'DISINFORMASI, HASUT': 'validitas rendah',\n",
        "    'DISINFORMASI/MISINFORMASI': 'validitas rendah',\n",
        "    'DISINFORMASI+FITNAH': 'validitas rendah',\n",
        "    'DISINFORMASI+FRAMING': 'validitas rendah',\n",
        "    'DISINFORMASI+HASUT': 'validitas rendah',\n",
        "    'EDUKASI, HOAX': 'validitas rendah',\n",
        "    'EDUKASI,HOAX': 'validitas rendah',\n",
        "    'SALAH': 'validitas rendah',\n",
        "    'SALAH ': 'validitas rendah',\n",
        "    'FITNAH': 'validitas rendah',\n",
        "    'FITNAH / HASUT': 'validitas rendah',\n",
        "    'FITNAH+HASUT': 'validitas rendah',\n",
        "    'FITNAH+HOAX': 'validitas rendah',\n",
        "    'Foto Gus Mus': 'validitas rendah',\n",
        "    'FRAMING': 'validitas rendah',\n",
        "    'HASUT': 'validitas rendah',\n",
        "    'HASUT+FITNAH': 'validitas rendah',\n",
        "    'HOAKS': 'validitas rendah',\n",
        "    'HOAX': 'validitas rendah',\n",
        "    'Hoax': 'validitas rendah',\n",
        "    'HOAX + HASUT': 'validitas rendah',\n",
        "    'HOAX + LOGICAL FALLACY': 'validitas rendah',\n",
        "    'HOAX KILLS': 'validitas rendah',\n",
        "    'HOAX, HASUT': 'validitas rendah',\n",
        "    'HOAX, HASUT, & PROVOKASI': 'validitas rendah',\n",
        "    'HOAX/FITNAH': 'validitas rendah',\n",
        "    'HOAX/HASUT': 'validitas rendah',\n",
        "    'HOAX+FITNAH': 'validitas rendah',\n",
        "    'HOAX+HASUT': 'validitas rendah',\n",
        "    'MISINFORMASI': 'validitas rendah',\n",
        "    'Misinformasi': 'validitas rendah',\n",
        "    'SCAM': 'validitas rendah',\n",
        "    'Campuran; Disinformasi, Hasut, & Fakta': 'validitas rendah',\n",
        "}\n",
        "\n",
        "# Fungsi untuk kategorisasi\n",
        "def categorize_status_exact(status):\n",
        "    return status_mapping.get(status.strip(), 'tidak terklasifikasi')\n",
        "\n",
        "# Terapkan ke kolom Status\n",
        "df['Validitas'] = df['Status'].apply(categorize_status_exact)\n",
        "\n",
        "# Tampilkan distribusi hasil\n",
        "print(\"Distribusi Validitas:\")\n",
        "df['Validitas'].value_counts()"
      ],
      "metadata": {
        "colab": {
          "base_uri": "https://localhost:8080/",
          "height": 331
        },
        "id": "-pa1_Y7Pqgq-",
        "outputId": "170a01a0-c4ce-43b2-ba07-0371ccccfa55"
      },
      "execution_count": null,
      "outputs": [
        {
          "output_type": "stream",
          "name": "stdout",
          "text": [
            "Distribusi Validitas:\n"
          ]
        },
        {
          "output_type": "stream",
          "name": "stderr",
          "text": [
            "<ipython-input-28-98ac013bcd63>:83: SettingWithCopyWarning: \n",
            "A value is trying to be set on a copy of a slice from a DataFrame.\n",
            "Try using .loc[row_indexer,col_indexer] = value instead\n",
            "\n",
            "See the caveats in the documentation: https://pandas.pydata.org/pandas-docs/stable/user_guide/indexing.html#returning-a-view-versus-a-copy\n",
            "  df['Validitas'] = df['Status'].apply(categorize_status_exact)\n"
          ]
        },
        {
          "output_type": "execute_result",
          "data": {
            "text/plain": [
              "Validitas\n",
              "validitas rendah    15291\n",
              "validitas tinggi     1097\n",
              "validitas sedang       57\n",
              "Name: count, dtype: int64"
            ],
            "text/html": [
              "<div>\n",
              "<style scoped>\n",
              "    .dataframe tbody tr th:only-of-type {\n",
              "        vertical-align: middle;\n",
              "    }\n",
              "\n",
              "    .dataframe tbody tr th {\n",
              "        vertical-align: top;\n",
              "    }\n",
              "\n",
              "    .dataframe thead th {\n",
              "        text-align: right;\n",
              "    }\n",
              "</style>\n",
              "<table border=\"1\" class=\"dataframe\">\n",
              "  <thead>\n",
              "    <tr style=\"text-align: right;\">\n",
              "      <th></th>\n",
              "      <th>count</th>\n",
              "    </tr>\n",
              "    <tr>\n",
              "      <th>Validitas</th>\n",
              "      <th></th>\n",
              "    </tr>\n",
              "  </thead>\n",
              "  <tbody>\n",
              "    <tr>\n",
              "      <th>validitas rendah</th>\n",
              "      <td>15291</td>\n",
              "    </tr>\n",
              "    <tr>\n",
              "      <th>validitas tinggi</th>\n",
              "      <td>1097</td>\n",
              "    </tr>\n",
              "    <tr>\n",
              "      <th>validitas sedang</th>\n",
              "      <td>57</td>\n",
              "    </tr>\n",
              "  </tbody>\n",
              "</table>\n",
              "</div><br><label><b>dtype:</b> int64</label>"
            ]
          },
          "metadata": {},
          "execution_count": 28
        }
      ]
    },
    {
      "cell_type": "markdown",
      "source": [
        "**Menampilkan Validitas**"
      ],
      "metadata": {
        "id": "-I8SQiQRsAsB"
      }
    },
    {
      "cell_type": "code",
      "source": [
        "# Daftar label validitas utama yang ingin ditampilkan\n",
        "validitas_labels = ['validitas tinggi', 'validitas sedang', 'validitas rendah']\n",
        "\n",
        "# Fungsi untuk menampilkan data berdasarkan kategori validitas\n",
        "def lihat_isi_validitas(validitas_label):\n",
        "    subset = df[df['Validitas'] == validitas_label]\n",
        "    print(f\"\\n=== {validitas_label.upper()} ===\")\n",
        "    print(subset[['Title', 'Status']].head(10))  # Tampilkan 10 data teratas\n",
        "    print(f\"Jumlah data: {len(subset)}\")\n",
        "\n",
        "# Tampilkan isi untuk tiap kategori validitas\n",
        "for label in validitas_labels:\n",
        "    lihat_isi_validitas(label)"
      ],
      "metadata": {
        "colab": {
          "base_uri": "https://localhost:8080/"
        },
        "id": "zLDcLmH2r_W_",
        "outputId": "8e60cb58-7dcc-44b5-cfcf-bda8098997c2"
      },
      "execution_count": null,
      "outputs": [
        {
          "output_type": "stream",
          "name": "stdout",
          "text": [
            "\n",
            "=== VALIDITAS TINGGI ===\n",
            "                                                Title Status\n",
            "1                               “Lawan Berita Palsu!”  ACARA\n",
            "2                 “REFLEKSI INFODEMI DI KALA PANDEMI”  ACARA\n",
            "3                     “Merdeka dari Hoaks, Apa Bisa?”  ACARA\n",
            "4   “Gandeng MAFINDO, Bawaslu Bekali Pemuda tentan...  ACARA\n",
            "5            Campaign “Jaga Jogja” MAFINDO Yogyakarta  ACARA\n",
            "6   Unlimited Media Partners Unlimited Talks “Perl...  ACARA\n",
            "7                         Sekolah.mu “Fakta vs Hoaks”  ACARA\n",
            "8   Muhammadiyah COVID-19 Command Center “Literasi...  ACARA\n",
            "9   MAFINDO Malang Bincang Online “Cek Fakta Seput...  ACARA\n",
            "10  Kenari Djaja Bincang Kenari 5 “Turn Back Hoax ...  ACARA\n",
            "Jumlah data: 1097\n",
            "\n",
            "=== VALIDITAS SEDANG ===\n",
            "                                                Title          Status\n",
            "19          Penemuan Makam Nabi di Tembok Besar China  BELUM TERBUKTI\n",
            "20   Keluarga Jokowi Terlibat Kasus Korupsi Pertamina  BELUM TERBUKTI\n",
            "21  Zat Klorin hingga BPA dalam Pembalut Picu Gang...  BELUM TERBUKTI\n",
            "22  Akar Pepaya dan Garam Mampu Obati Gigitan Hewa...  BELUM TERBUKTI\n",
            "23          Mesin Kendaraan Rusak Usai Diisi Pertamax  BELUM TERBUKTI\n",
            "24  Daun Meniran Bisa Keluarkan Batu Ginjal Tanpa ...  BELUM TERBUKTI\n",
            "25  Infused Water dari Nanas dapat Sembuhkan Jantu...  BELUM TERBUKTI\n",
            "26   Buah Mengkudu Bisa Permanen Sembuhkan Darah T...  BELUM TERBUKTI\n",
            "27  Air Rendaman Sawo Bisa Obati Vertigo dalam Tig...  BELUM TERBUKTI\n",
            "28   Air Rebusan Daun Sisik Naga Ampuh Hilangkan Asma  BELUM TERBUKTI\n",
            "Jumlah data: 57\n",
            "\n",
            "=== VALIDITAS RENDAH ===\n",
            "                                                 Title  \\\n",
            "0      Surat Undangan Rakerkesnas Mengatasnamakan RSCM   \n",
            "670                    20 Dosa Ahok Kepada Umat Muslim   \n",
            "679       Waduh,, Penyusup dari China Berdatangan Mulu   \n",
            "680  PIDATO ANIES BASWEDAN DALAM PESTA RAKYAT PELAN...   \n",
            "681                  “APA SIH CITA-CITA METRO TV INI?”   \n",
            "682  Dua Anak Yatim Piatu Tidur Di Dalam ATM Pom Be...   \n",
            "683                         Sekte Kristen meniru Islam   \n",
            "684  Korban Penganiayaan di Cicangri, Kabupaten Ban...   \n",
            "685             “Retas Akses ke Akun Menggunakan Ping”   \n",
            "686  “Balada Cinta Segi Tiga Ahok Veronica Ahok Lem...   \n",
            "\n",
            "                                     Status  \n",
            "0                                  PENIPUAN  \n",
            "670  Campuran; Disinformasi, Hasut, & Fakta  \n",
            "679                            DISINFORMASI  \n",
            "680                            DISINFORMASI  \n",
            "681                            DISINFORMASI  \n",
            "682                            DISINFORMASI  \n",
            "683                            DISINFORMASI  \n",
            "684                            DISINFORMASI  \n",
            "685                            DISINFORMASI  \n",
            "686                            DISINFORMASI  \n",
            "Jumlah data: 15291\n"
          ]
        }
      ]
    }
  ]
}